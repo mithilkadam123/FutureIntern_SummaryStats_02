{
  "nbformat": 4,
  "nbformat_minor": 0,
  "metadata": {
    "colab": {
      "provenance": []
    },
    "kernelspec": {
      "name": "python3",
      "display_name": "Python 3"
    },
    "language_info": {
      "name": "python"
    }
  },
  "cells": [
    {
      "cell_type": "markdown",
      "source": [
        "**Task 2: Calculating Summary Statistcs**"
      ],
      "metadata": {
        "id": "MTYLk9Pxqlc_"
      }
    },
    {
      "cell_type": "code",
      "execution_count": 1,
      "metadata": {
        "colab": {
          "base_uri": "https://localhost:8080/"
        },
        "id": "ogI8uQx-qh6V",
        "outputId": "6265b84f-3dec-4ebf-d0b1-51ae0baa8c8b"
      },
      "outputs": [
        {
          "output_type": "stream",
          "name": "stdout",
          "text": [
            "Summary Statistics for Numerical Columns:\n",
            "       PassengerId      Pclass         Age       SibSp       Parch        Fare\n",
            "count   418.000000  418.000000  332.000000  418.000000  418.000000  417.000000\n",
            "mean   1100.500000    2.265550   30.272590    0.447368    0.392344   35.627188\n",
            "std     120.810458    0.841838   14.181209    0.896760    0.981429   55.907576\n",
            "min     892.000000    1.000000    0.170000    0.000000    0.000000    0.000000\n",
            "25%     996.250000    1.000000   21.000000    0.000000    0.000000    7.895800\n",
            "50%    1100.500000    3.000000   27.000000    0.000000    0.000000   14.454200\n",
            "75%    1204.750000    3.000000   39.000000    1.000000    0.000000   31.500000\n",
            "max    1309.000000    3.000000   76.000000    8.000000    9.000000  512.329200\n",
            "\n",
            "Summary Statistics for Categorical Columns:\n",
            "                    Name   Sex    Ticket            Cabin Embarked\n",
            "count                418   418       418               91      418\n",
            "unique               418     2       363               76        3\n",
            "top     Kelly, Mr. James  male  PC 17608  B57 B59 B63 B66        S\n",
            "freq                   1   266         5                3      270\n",
            "\n",
            "Additional Statistics for Numerical Columns:\n",
            "                median      skew   kurtosis\n",
            "PassengerId  1100.5000  0.000000  -1.200000\n",
            "Pclass          3.0000 -0.534170  -1.382666\n",
            "Age            27.0000  0.457361   0.083783\n",
            "SibSp           0.0000  4.168337  26.498712\n",
            "Parch           0.0000  4.654462  31.412513\n",
            "Fare           14.4542  3.687213  17.921595\n"
          ]
        }
      ],
      "source": [
        "import pandas as pd\n",
        "file_path = '/content/test (1).csv'\n",
        "data = pd.read_csv(file_path)\n",
        "\n",
        "numerical_stats = data.describe(include=[float, int])\n",
        "categorical_stats = data.describe(include=[object])\n",
        "\n",
        "additional_stats = data.select_dtypes(include=['number']).agg(['median', 'skew', 'kurtosis']).transpose()\n",
        "print(\"Summary Statistics for Numerical Columns:\")\n",
        "print(numerical_stats)\n",
        "\n",
        "print(\"\\nSummary Statistics for Categorical Columns:\")\n",
        "print(categorical_stats)\n",
        "\n",
        "print(\"\\nAdditional Statistics for Numerical Columns:\")\n",
        "print(additional_stats)"
      ]
    },
    {
      "cell_type": "code",
      "source": [
        "import pandas as pd\n",
        "file_path = '/content/test (1).csv'\n",
        "data = pd.read_csv(file_path)\n",
        "summary_stats = {}\n",
        "for col in data.select_dtypes(include=['number']).columns:\n",
        "    summary_stats[col] = {\n",
        "        'Mean': data[col].mean(),\n",
        "        'Median': data[col].median(),\n",
        "        'Mode': data[col].mode()[0],  # Get the first mode\n",
        "        'Standard Deviation': data[col].std()\n",
        "    }\n",
        "summary_stats_df = pd.DataFrame(summary_stats).transpose()\n",
        "print(\"Mean, Median, Mode, and Standard Deviation:\")\n",
        "print(summary_stats_df)"
      ],
      "metadata": {
        "colab": {
          "base_uri": "https://localhost:8080/"
        },
        "id": "eph4-N80qtBs",
        "outputId": "65a7675e-1a63-49d5-dc92-b368bd556862"
      },
      "execution_count": 2,
      "outputs": [
        {
          "output_type": "stream",
          "name": "stdout",
          "text": [
            "Mean, Median, Mode, and Standard Deviation:\n",
            "                    Mean     Median    Mode  Standard Deviation\n",
            "PassengerId  1100.500000  1100.5000  892.00          120.810458\n",
            "Pclass          2.265550     3.0000    3.00            0.841838\n",
            "Age            30.272590    27.0000   21.00           14.181209\n",
            "SibSp           0.447368     0.0000    0.00            0.896760\n",
            "Parch           0.392344     0.0000    0.00            0.981429\n",
            "Fare           35.627188    14.4542    7.75           55.907576\n"
          ]
        }
      ]
    },
    {
      "cell_type": "code",
      "source": [],
      "metadata": {
        "id": "dCizYDnoqtEa"
      },
      "execution_count": null,
      "outputs": []
    },
    {
      "cell_type": "code",
      "source": [],
      "metadata": {
        "id": "1v0lO93OqtHE"
      },
      "execution_count": null,
      "outputs": []
    },
    {
      "cell_type": "code",
      "source": [],
      "metadata": {
        "id": "lRoRy6NzqtKJ"
      },
      "execution_count": null,
      "outputs": []
    }
  ]
}